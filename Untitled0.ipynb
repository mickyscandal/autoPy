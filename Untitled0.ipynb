{
 "metadata": {
  "name": "",
  "signature": "sha256:97e2c6ba7b9253fe88d00930268fae813f6c06f8feeb693c3fcd9ae9a52ed2bf"
 },
 "nbformat": 3,
 "nbformat_minor": 0,
 "worksheets": [
  {
   "cells": [
    {
     "cell_type": "code",
     "collapsed": false,
     "input": [
      "import csv\n",
      "\n",
      "\n",
      "with open('fillupLogDat.csv', 'r') as f:\n",
      "    creader = csv.reader(f)\n",
      "    for row in creader:\n",
      "        print(len(row))\n",
      "\n",
      "        \n",
      "\n",
      "    "
     ],
     "language": "python",
     "metadata": {},
     "outputs": [
      {
       "output_type": "stream",
       "stream": "stdout",
       "text": [
        "6\n",
        "6\n",
        "6\n"
       ]
      }
     ],
     "prompt_number": 4
    },
    {
     "cell_type": "code",
     "collapsed": false,
     "input": [],
     "language": "python",
     "metadata": {},
     "outputs": []
    }
   ],
   "metadata": {}
  }
 ]
}